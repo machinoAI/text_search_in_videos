{
 "cells": [
  {
   "cell_type": "code",
   "execution_count": 1,
   "id": "6fbf9124",
   "metadata": {
    "scrolled": true
   },
   "outputs": [
    {
     "name": "stderr",
     "output_type": "stream",
     "text": [
      "/home/ubuntu/.local/lib/python3.8/site-packages/whisper/timing.py:58: NumbaDeprecationWarning: \u001b[1mThe 'nopython' keyword argument was not supplied to the 'numba.jit' decorator. The implicit default value for this argument is currently False, but it will be changed to True in Numba 0.59.0. See https://numba.readthedocs.io/en/stable/reference/deprecation.html#deprecation-of-object-mode-fall-back-behaviour-when-using-jit for details.\u001b[0m\n",
      "  def backtrace(trace: np.ndarray):\n",
      "[nltk_data] Downloading package punkt to /home/ubuntu/nltk_data...\n",
      "[nltk_data]   Package punkt is already up-to-date!\n",
      "[nltk_data] Downloading package stopwords to /home/ubuntu/nltk_data...\n",
      "[nltk_data]   Package stopwords is already up-to-date!\n",
      "[nltk_data] Downloading package wordnet to /home/ubuntu/nltk_data...\n",
      "[nltk_data]   Package wordnet is already up-to-date!\n",
      "[nltk_data] Downloading package omw-1.4 to /home/ubuntu/nltk_data...\n",
      "[nltk_data]   Package omw-1.4 is already up-to-date!\n"
     ]
    },
    {
     "data": {
      "text/plain": [
       "True"
      ]
     },
     "execution_count": 1,
     "metadata": {},
     "output_type": "execute_result"
    }
   ],
   "source": [
    "import pandas as pd\n",
    "import numpy as np\n",
    "import matplotlib.pyplot as plt\n",
    "import json\n",
    "import gensim\n",
    "import gensim.downloader as api\n",
    "import whisper\n",
    "import re\n",
    "import os\n",
    "import string\n",
    "import nltk\n",
    "from nltk.corpus import stopwords\n",
    "from nltk.tokenize import word_tokenize, sent_tokenize\n",
    "from gensim.models import KeyedVectors\n",
    "from nltk.stem import WordNetLemmatizer\n",
    "import gensim.downloader as api\n",
    "from sklearn.neighbors import NearestNeighbors\n",
    "from moviepy.editor import VideoFileClip\n",
    "from IPython.display import display, YouTubeVideo\n",
    "import ipywidgets as widgets\n",
    "\n",
    "##Summarization model specific library:\n",
    "from transformers import pipeline, set_seed\n",
    "from transformers import AutoModelForSeq2SeqLM, AutoTokenizer\n",
    "from datasets import load_dataset, load_metric\n",
    "\n",
    "\n",
    "glove_model = api.load('glove-wiki-gigaword-50')\n",
    "nltk.download('punkt')\n",
    "nltk.download('stopwords')\n",
    "nltk.download('wordnet')\n",
    "nltk.download('omw-1.4')"
   ]
  },
  {
   "cell_type": "code",
   "execution_count": 2,
   "id": "2104227f",
   "metadata": {},
   "outputs": [
    {
     "name": "stdout",
     "output_type": "stream",
     "text": [
      "     active environment : pytorch\r\n",
      "    active env location : /home/ubuntu/miniconda3/envs/pytorch\r\n"
     ]
    }
   ],
   "source": [
    "!conda info | grep 'active env'\n",
    "#!jupyter nbextension enable --py widgetsnbextension"
   ]
  },
  {
   "cell_type": "code",
   "execution_count": 3,
   "id": "3620e111",
   "metadata": {},
   "outputs": [],
   "source": [
    "class Search:\n",
    "    \n",
    "    def __init__(self, video_to_text_model, video_id, file_path, fname):\n",
    "        self.video_to_text_model=video_to_text_model\n",
    "        self.video_id=video_id\n",
    "        self.file_path=file_path\n",
    "        self.fname=fname\n",
    "    \n",
    "    #1. Extracts text from videos:\n",
    "    def video_to_text(self):\n",
    "        model = whisper.load_model(self.video_to_text_model)\n",
    "        result = model.transcribe(self.file_path+self.video_id+\".mp4\")\n",
    "        return result\n",
    "    \n",
    "    #2. write the extracted files to data lake: S3\n",
    "    def write_video_text_results(self, dict_name):\n",
    "        self.dict_name = dict_name\n",
    "        # Convert dictionary to JSON string\n",
    "        json_string = json.dumps(self.dict_name)\n",
    "        # Write JSON string to file\n",
    "        with open(self.file_path+self.fname, \"w\") as f:\n",
    "            f.write(json_string)\n",
    "            \n",
    "        return None\n",
    "    \n",
    "    #3. load extracted text files:\n",
    "    def load_text_extract_file(self, fname):\n",
    "        self.fname = fname\n",
    "        with open(self.file_path+self.fname, \"r\") as f:\n",
    "            json_string = f.read()\n",
    "\n",
    "        # Convert JSON string to dictionary\n",
    "        my_dict = json.loads(json_string)\n",
    "        return my_dict\n",
    "    \n",
    "    #4. extracts just text and append in rows one by one:\n",
    "    def append_text_from_json(self, subtitle):\n",
    "        self.rows = []\n",
    "        for item in subtitle['segments']:\n",
    "            text = item.get('text', '')\n",
    "            self.rows.append(text)\n",
    "        return self.rows\n",
    "\n",
    "    #5. Text cleaning:\n",
    "    def preprocess_text(self, df, text_column, new_text):\n",
    "        self.df = df.copy()\n",
    "        # Remove punctuations\n",
    "        #self.df[new_text] = self.df[text_column]\n",
    "        #translator = str.maketrans('-', ' ', string.punctuation)\n",
    "        #self.df[new_text] = self.df[text_column].apply(lambda x: x.translate(translator))\n",
    "        \n",
    "        self.df[new_text] = self.df[text_column].apply(lambda x: re.sub('[^a-zA-Z]', ' ', x))\n",
    "\n",
    "        # Convert to lowercase\n",
    "        self.df[new_text] = self.df[new_text].apply(lambda x: x.lower())\n",
    "\n",
    "        # Tokenize words\n",
    "        self.df[new_text] = self.df[new_text].apply(lambda x: word_tokenize(x))\n",
    "\n",
    "        # Remove stop words\n",
    "        stop_words = set(stopwords.words('english'))\n",
    "        self.df[new_text] = self.df[new_text].apply(lambda x: [word for word in x if not word in stop_words])\n",
    "\n",
    "        # Lemmatize words\n",
    "        # lemmatizer = WordNetLemmatizer()\n",
    "        # self.df[new_text] = self.df[new_text].apply(lambda x: [lemmatizer.lemmatize(word) for word in x])\n",
    "\n",
    "        # Join words back to form text\n",
    "        self.df[new_text] = self.df[new_text].apply(lambda x: '  '.join(x))\n",
    "\n",
    "        return self.df\n",
    "    \n",
    "    #6. Clean the target text:\n",
    "    def preprocess_single_sentence(self, sentence):\n",
    "\n",
    "        # Remove punctuations and digits\n",
    "        sentence = re.sub('[^a-zA-Z]', ' ', sentence)\n",
    "\n",
    "        # Convert to lowercase\n",
    "        sentence = sentence.lower()\n",
    "\n",
    "        # Tokenize words\n",
    "        sentence = word_tokenize(sentence)\n",
    "\n",
    "        # Remove stop words\n",
    "        stop_words = set(stopwords.words('english'))\n",
    "        sentence = [word for word in sentence if not word in stop_words]\n",
    "\n",
    "        # Join words back to form text\n",
    "        sentence = ' '.join(sentence)\n",
    "\n",
    "        return sentence\n",
    "    \n",
    "    #7. Creates embeddings:\n",
    "    def get_embedding(self, sentence):\n",
    "        tokens = sentence.split()\n",
    "        embedding = []\n",
    "        for token in tokens:\n",
    "            try:\n",
    "                embedding.append(glove_model[token])\n",
    "            except KeyError:\n",
    "                # If token is not found in the GloVe model, skip it\n",
    "                pass\n",
    "        if len(embedding) == 0:\n",
    "            # If no tokens were found in the GloVe model, return a vector of zeros\n",
    "            embedding = [np.zeros(50)]\n",
    "        return np.mean(embedding, axis=0)\n",
    "    \n",
    "    #8. Check if the video text already exist ? If not exist then extract texts from videos:\n",
    "    def check_file(self, fname):\n",
    "        self.fname = fname\n",
    "        if os.path.exists(self.file_path+self.fname):\n",
    "            print(\"The text file already exist for the session id:\",self.video_id)\n",
    "            return 1\n",
    "        else:\n",
    "            return 0\n",
    "    #9. Saving the embeddings file for the future use.\n",
    "    def save_embedding_file(self, df, embedName):\n",
    "        self.df = df\n",
    "        self.embedName = embedName\n",
    "        \n",
    "        np.save(self.file_path+self.embedName, self.df)\n",
    "        return None\n",
    "    \n",
    "    #10. Loading the embeddings file.\n",
    "    def load_embedding_file(self, embedName):\n",
    "        self.embedName = embedName\n",
    "        cols = ['sentence', 'clean_sentence', 'embeddings']\n",
    "        \n",
    "        load_embed_data = np.load(self.file_path+self.embedName, allow_pickle=True)\n",
    "        df = pd.DataFrame(load_embed_data, columns = cols)\n",
    "        return df\n",
    "    \n",
    "    #11. Read the search keywords from students:\n",
    "    def read_input_from_keywords(self, counter=0):\n",
    "        target_text = input(\"Enter your keywords here: \").lower()\n",
    "        counter += 1\n",
    "        if target_text==\"\" and counter<= 2:\n",
    "            print(\"You did not enter anything please try again!\")\n",
    "            target_text = self.read_input_from_keywords(counter)\n",
    "        else:\n",
    "            print(\"Your entered keywords are:\", target_text)\n",
    "        return target_text\n",
    "    \n",
    "    #12. Define a function to update the video player based on the start time input\n",
    "    def update_video(self, start_time):\n",
    "        \n",
    "        self.start_time = start_time\n",
    "        display(YouTubeVideo(self.video_id, start=int(self.start_time), autoplay = True))\n",
    "        \n",
    "    #13. Refactorizing the followings:\n",
    "        #a. Appeding text from preprocessing:\n",
    "        #b. converting to list to df\n",
    "        #c. Text cleanup\n",
    "        #d. Creates embeddings to the cleaned text\n",
    "        #e. Save the embeddings file\n",
    "    \n",
    "    def preparing_data_for_model(self, subtitle, embedding_file):\n",
    "        self.subtitle = subtitle\n",
    "        self.embedding_file = embedding_file\n",
    "        \n",
    "        # Appending texts for preprocessing:\n",
    "        subtitle_text_list = self.append_text_from_json(self.subtitle)\n",
    "        \n",
    "        # Converting list to df:\n",
    "        text_data_df = pd.DataFrame(subtitle_text_list, columns=['sentence'])\n",
    "        \n",
    "        # Text cleanup: For now just keeping the words: ^^^ Needs to revisit this:^^^\n",
    "        cleaned_df = self.preprocess_text(text_data_df, 'sentence', 'clean_sentence')\n",
    "        \n",
    "        # Creates embeddings to the cleaned text: ^^^ Using word embeddings needs to think about hybrid(word+char)^^^\n",
    "        cleaned_df['embeddings'] = cleaned_df['clean_sentence'].apply(self.get_embedding)\n",
    "        \n",
    "        # Save the embeddings file:\n",
    "        self.save_embedding_file(cleaned_df, self.embedding_file)\n",
    "        \n",
    "        return cleaned_df\n",
    "        \n",
    "        "
   ]
  },
  {
   "cell_type": "markdown",
   "id": "1e965902",
   "metadata": {},
   "source": [
    "# How does it works:\n",
    "## Accept & process target text:\n",
    "    1. Accept keywords or topics from students.\n",
    "    2. Clean the target text.\n",
    "    3. Create embeddings of target text.\n",
    "\n",
    "## search model:\n",
    "    1. Check if embeddings for given video_id exists:\n",
    "        I. If no embeddings is available:\n",
    "            A. Check whether text file exist for the given video_id. If text file doesn't exist:\n",
    "                i. Call text to video model and extracts videos to text.\n",
    "               ii. Save the extracted texts to data lake: S3\n",
    "              iii. clean and preprocess the text sentences.\n",
    "               iV. Create embeddings with help of effiient embeddings model.\n",
    "                V. Save the embedded file.\n",
    "            B. If text file does exist:\n",
    "                i. Load the extracted text file.\n",
    "                   a. check for the embeddings, If it exists:\n",
    "                       - Load the embeddings file.\n",
    "                   b. If it doesn't exist:\n",
    "                       - clean and preprocess the text sentences.\n",
    "                       - Create embeddings with help of effiient embeddings model.\n",
    "                       - Save the embedded file.\n",
    "                       \n",
    "                  \n",
    "       II. If embeddings file exist:\n",
    "           A. Load the extracted text file\n",
    "           B. Load the embeddings file.\n",
    "    2. Call the search model and use its output to idenify the the most similar keywords.\n",
    "    3. Extract the corresponding indeces timestamps from the extracted text.\n",
    "    4. Update the video for the matching timestamps.\n",
    "   \n",
    "                "
   ]
  },
  {
   "cell_type": "code",
   "execution_count": 4,
   "id": "37abf7bd",
   "metadata": {
    "scrolled": false
   },
   "outputs": [],
   "source": [
    "def text_search_within_video(video_id, target_text):\n",
    "    \n",
    "    ## Adjust them based on the requirements:\n",
    "    model_name=\"medium.en\"    #['mdedium-en', 'large', 'large-v2', 'small-en', 'tiny-en']\n",
    "    video_path=\"/home/ubuntu/New_program/text_search_video/videos/\"\n",
    "    fname     = video_id+\".json\"\n",
    "    embedding_file = video_id+\"_embeddings.npy\"\n",
    "    \n",
    "    ##Declare class:\n",
    "    search = Search(model_name, video_id, video_path, fname)\n",
    "    text_file_exist = search.check_file(fname)\n",
    "    if text_file_exist==0: # The extracted file doesn't exist:\n",
    "        print(\"The text doesn't exist for video_id:\", video_id)\n",
    "        print(\"The text extraction is in process....\")\n",
    "\n",
    "        ## Extract texts from video and save in the repository:\n",
    "        subtitle = search.video_to_text()\n",
    "        search.write_video_text_results(subtitle)\n",
    "\n",
    "        ## Prepare text data for the model input:\n",
    "        cleaned_df=search.preparing_data_for_model(subtitle, embedding_file)\n",
    "        embeddings_vector=cleaned_df['embeddings']\n",
    "        embeddings_array=np.stack(embeddings_vector)\n",
    "\n",
    "        ## Accept input from students and clean it:\n",
    "        #target_text = search.read_input_from_keywords()\n",
    "        new_target_text = search.preprocess_single_sentence(target_text)\n",
    "        target_vector = search.get_embedding(new_target_text)\n",
    "\n",
    "        ##Model:\n",
    "        knn_model = NearestNeighbors(n_neighbors=3, metric='cosine').fit(embeddings_array)\n",
    "        distances, indices = knn_model.kneighbors(target_vector.reshape(1, -1))\n",
    "\n",
    "        index = indices[0][0]\n",
    "        start_time = subtitle['segments'][index]['start']\n",
    "        if start_time >= 0:\n",
    "            time_widget = widgets.FloatText(value=start_time, description='Start Time (sec):') # Create a widget for the start time input\n",
    "            search.update_video(start_time)                                                    # Call the update_video function with the initial start time\n",
    "            button = widgets.Button(description='Update Video')                                # Create a button to trigger the video player update\n",
    "\n",
    "        else:\n",
    "            None\n",
    "\n",
    "    # When file exists:\n",
    "    elif text_file_exist==1:\n",
    "        ## Load subtitle file:\n",
    "        subtitle = search.load_text_extract_file(fname)\n",
    "        ## Check for the embeddings file:\n",
    "        embed_file_exist = search.check_file(embedding_file)\n",
    "        if embed_file_exist==0:\n",
    "\n",
    "            print(\"There is not embeddings found hence creating the embeddings...\")\n",
    "            ## Prepare text data for the model input:\n",
    "            cleaned_df=search.preparing_data_for_model(subtitle, embedding_file)\n",
    "            embeddings_vector=cleaned_df['embeddings']\n",
    "            embeddings_array=np.stack(embeddings_vector)\n",
    "\n",
    "            ## Accept input from students and clean it:\n",
    "            #target_text = search.read_input_from_keywords()\n",
    "            new_target_text = search.preprocess_single_sentence(target_text)\n",
    "            target_vector = search.get_embedding(new_target_text)\n",
    "\n",
    "            ##Model:\n",
    "            knn_model = NearestNeighbors(n_neighbors=3, metric='cosine').fit(embeddings_array)\n",
    "            distances, indices = knn_model.kneighbors(target_vector.reshape(1, -1))\n",
    "\n",
    "            index = indices[0][0]\n",
    "            start_time = subtitle['segments'][index]['start']\n",
    "            if start_time >= 0:\n",
    "                time_widget = widgets.FloatText(value=start_time, description='Start Time (sec):') # Create a widget for the start time input\n",
    "                search.update_video(start_time)                                                    # Call the update_video function with the initial start time\n",
    "                button = widgets.Button(description='Update Video')                                # Create a button to trigger the video player update\n",
    "\n",
    "            else:\n",
    "                None\n",
    "\n",
    "        # When embeddings exist then load it:\n",
    "        elif embed_file_exist==1:\n",
    "            cleaned_df=search.load_embedding_file(embedding_file)\n",
    "            embeddings_vector=cleaned_df['embeddings']\n",
    "            embeddings_array=np.stack(embeddings_vector)\n",
    "#             print(embeddings_array)\n",
    "            print(cleaned_df.shape)\n",
    "            ## Accept input from students and clean it:\n",
    "            #target_text = search.read_input_from_keywords()\n",
    "            new_target_text = search.preprocess_single_sentence(target_text)\n",
    "            target_vector = search.get_embedding(new_target_text)\n",
    "            print(target_vector.reshape(1, -1).shape)\n",
    "            ##Model:\n",
    "            knn_model = NearestNeighbors(n_neighbors=3, metric='cosine').fit(embeddings_array)\n",
    "            distances, indices = knn_model.kneighbors(target_vector.reshape(1, -1))\n",
    "\n",
    "\n",
    "            index = indices[0][0]\n",
    "            start_time = subtitle['segments'][index]['start']\n",
    "            if start_time >= 0:\n",
    "                time_widget = widgets.FloatText(value=start_time, description='Start Time (sec):') # Create a widget for the start time input\n",
    "                search.update_video(start_time)                                                    # Call the update_video function with the initial start time\n",
    "                button = widgets.Button(description='Update Video')                                # Create a button to trigger the video player update\n",
    "\n",
    "            else:\n",
    "                None"
   ]
  },
  {
   "cell_type": "code",
   "execution_count": 5,
   "id": "6da6ea97",
   "metadata": {},
   "outputs": [
    {
     "name": "stdout",
     "output_type": "stream",
     "text": [
      "The text file already exist for the session id: OgbBtDCNELA\n",
      "The text file already exist for the session id: OgbBtDCNELA\n",
      "(217, 3)\n",
      "(1, 50)\n"
     ]
    },
    {
     "data": {
      "image/jpeg": "[encoded data removed]",
      "text/html": [
       "\n",
       "        <iframe\n",
       "            width=\"400\"\n",
       "            height=\"300\"\n",
       "            src=\"https://www.youtube.com/embed/OgbBtDCNELA?start=833&autoplay=True\"\n",
       "            frameborder=\"0\"\n",
       "            allowfullscreen\n",
       "            \n",
       "        ></iframe>\n",
       "        "
      ],
      "text/plain": [
       "<IPython.lib.display.YouTubeVideo at 0x7eff972334c0>"
      ]
     },
     "metadata": {},
     "output_type": "display_data"
    }
   ],
   "source": [
    "video_id=\"OgbBtDCNELA\"\n",
    "target_text=\"What is focal lenght?\"\n",
    "text_search_within_video(video_id, target_text)"
   ]
  },
  {
   "cell_type": "code",
   "execution_count": 6,
   "id": "8fd8578f",
   "metadata": {},
   "outputs": [],
   "source": [
    "#session_ids=['kh02NmGZPyk', 'OgbBtDCNELA']"
   ]
  },
  {
   "cell_type": "code",
   "execution_count": 7,
   "id": "d9a4f197",
   "metadata": {},
   "outputs": [
    {
     "name": "stdout",
     "output_type": "stream",
     "text": [
      "0\n",
      "The text file already exist for the session id: OgbBtDCNELA\n",
      "The text file already exist for the session id: OgbBtDCNELA\n",
      "(217, 3)\n",
      "(1, 50)\n"
     ]
    },
    {
     "data": {
      "image/jpeg": "[encoded data removed]",
      "text/html": [
       "\n",
       "        <iframe\n",
       "            width=\"400\"\n",
       "            height=\"300\"\n",
       "            src=\"https://www.youtube.com/embed/OgbBtDCNELA?start=738&autoplay=True\"\n",
       "            frameborder=\"0\"\n",
       "            allowfullscreen\n",
       "            \n",
       "        ></iframe>\n",
       "        "
      ],
      "text/plain": [
       "<IPython.lib.display.YouTubeVideo at 0x7eff97238070>"
      ]
     },
     "metadata": {},
     "output_type": "display_data"
    },
    {
     "name": "stdout",
     "output_type": "stream",
     "text": [
      "1\n",
      "The text file already exist for the session id: kh02NmGZPyk\n",
      "The text file already exist for the session id: kh02NmGZPyk\n",
      "(39, 3)\n",
      "(1, 50)\n"
     ]
    },
    {
     "data": {
      "image/jpeg": "[encoded data removed]",
      "text/html": [
       "\n",
       "        <iframe\n",
       "            width=\"400\"\n",
       "            height=\"300\"\n",
       "            src=\"https://www.youtube.com/embed/kh02NmGZPyk?start=154&autoplay=True\"\n",
       "            frameborder=\"0\"\n",
       "            allowfullscreen\n",
       "            \n",
       "        ></iframe>\n",
       "        "
      ],
      "text/plain": [
       "<IPython.lib.display.YouTubeVideo at 0x7eff971f4910>"
      ]
     },
     "metadata": {},
     "output_type": "display_data"
    },
    {
     "name": "stdout",
     "output_type": "stream",
     "text": [
      "2\n",
      "The text file already exist for the session id: AeL1K2K5tP8\n",
      "The text file already exist for the session id: AeL1K2K5tP8\n",
      "(333, 3)\n",
      "(1, 50)\n"
     ]
    },
    {
     "data": {
      "text/html": [
       "\n",
       "        <iframe\n",
       "            width=\"400\"\n",
       "            height=\"300\"\n",
       "            src=\"https://www.youtube.com/embed/AeL1K2K5tP8?start=168&autoplay=True\"\n",
       "            frameborder=\"0\"\n",
       "            allowfullscreen\n",
       "            \n",
       "        ></iframe>\n",
       "        "
      ],
      "text/plain": [
       "<IPython.lib.display.YouTubeVideo at 0x7eff96fa36a0>"
      ]
     },
     "metadata": {},
     "output_type": "display_data"
    }
   ],
   "source": [
    "target_text=\"What is lens formula?\"\n",
    "session_ids=['OgbBtDCNELA', 'kh02NmGZPyk', 'AeL1K2K5tP8']\n",
    "for id_ in range(len(session_ids)):\n",
    "    print(id_)\n",
    "    video_id = session_ids[id_]\n",
    "    text_search_within_video(video_id, target_text)"
   ]
  },
  {
   "cell_type": "code",
   "execution_count": null,
   "id": "60fae56d",
   "metadata": {},
   "outputs": [],
   "source": []
  },
  {
   "cell_type": "markdown",
   "id": "f30f2fb5",
   "metadata": {},
   "source": [
    "### Create summarization from subtitle:"
   ]
  },
  {
   "cell_type": "code",
   "execution_count": 8,
   "id": "12b52a38",
   "metadata": {},
   "outputs": [
    {
     "name": "stderr",
     "output_type": "stream",
     "text": [
      "Found cached dataset cnn_dailymail (/home/ubuntu/.cache/huggingface/datasets/cnn_dailymail/default/3.0.0/1b3c71476f6d152c31c1730e83ccb08bcf23e348233f4fcc11e182248e6bf7de)\n"
     ]
    },
    {
     "data": {
      "application/vnd.jupyter.widget-view+json": {
       "model_id": "eeb53e78b58d4b928cdf3c1aa4ba41d5",
       "version_major": 2,
       "version_minor": 0
      },
      "text/plain": [
       "  0%|          | 0/3 [00:00<?, ?it/s]"
      ]
     },
     "metadata": {},
     "output_type": "display_data"
    },
    {
     "name": "stdout",
     "output_type": "stream",
     "text": [
      "Features in cnn_dailymail : ['article', 'highlights', 'id']\n"
     ]
    }
   ],
   "source": [
    "dataset = load_dataset(\"cnn_dailymail\", version=\"3.0.0\")\n",
    "\n",
    "print(f\"Features in cnn_dailymail : {dataset['train'].column_names}\")"
   ]
  },
  {
   "cell_type": "code",
   "execution_count": 9,
   "id": "6c546870",
   "metadata": {},
   "outputs": [
    {
     "name": "stdout",
     "output_type": "stream",
     "text": [
      "\n",
      "Article (excerpt of 500 characters, total length: 4051):\n",
      "\n",
      "Editor's note: In our Behind the Scenes series, CNN correspondents share their experiences in covering news and analyze the stories behind the events. Here, Soledad O'Brien takes users inside a jail where many of the inmates are mentally ill. An inmate housed on the \"forgotten floor,\" where many mentally ill inmates are housed in Miami before trial. MIAMI, Florida (CNN) -- The ninth floor of the Miami-Dade pretrial detention facility is dubbed the \"forgotten floor.\" Here, inmates with the most s\n",
      "\n",
      "Summary (length: 281):\n",
      "Mentally ill inmates in Miami are housed on the \"forgotten floor\"\n",
      "Judge Steven Leifman says most are there as a result of \"avoidable felonies\"\n",
      "While CNN tours facility, patient shouts: \"I am the son of the president\"\n",
      "Leifman says the system is unjust and he's fighting for change .\n"
     ]
    }
   ],
   "source": [
    "sample = dataset[\"train\"][1]\n",
    "print(f\"\"\"\n",
    "Article (excerpt of 500 characters, total length: {len(sample[\"article\"])}):\n",
    "\"\"\")\n",
    "print(sample[\"article\"][:500])\n",
    "print(f'\\nSummary (length: {len(sample[\"highlights\"])}):')\n",
    "print(sample[\"highlights\"])"
   ]
  },
  {
   "cell_type": "code",
   "execution_count": 10,
   "id": "9747fe1d",
   "metadata": {},
   "outputs": [],
   "source": [
    "sample_text = dataset[\"train\"][1][\"article\"][:1000]\n",
    "\n",
    "# We'll collect the generated summaries of each model in a dictionary\n",
    "summaries = {}"
   ]
  },
  {
   "cell_type": "code",
   "execution_count": 11,
   "id": "92d2a484",
   "metadata": {},
   "outputs": [
    {
     "data": {
      "text/plain": [
       "'Editor\\'s note: In our Behind the Scenes series, CNN correspondents share their experiences in covering news and analyze the stories behind the events. Here, Soledad O\\'Brien takes users inside a jail where many of the inmates are mentally ill. An inmate housed on the \"forgotten floor,\" where many mentally ill inmates are housed in Miami before trial. MIAMI, Florida (CNN) -- The ninth floor of the Miami-Dade pretrial detention facility is dubbed the \"forgotten floor.\" Here, inmates with the most severe mental illnesses are incarcerated until they\\'re ready to appear in court. Most often, they face drug charges or charges of assaulting an officer --charges that Judge Steven Leifman says are usually \"avoidable felonies.\" He says the arrests often result from confrontations with police. Mentally ill people often won\\'t do what they\\'re told when police arrive on the scene -- confrontation seems to exacerbate their illness and they become more paranoid, delusional, and less likely to follow dir'"
      ]
     },
     "execution_count": 11,
     "metadata": {},
     "output_type": "execute_result"
    }
   ],
   "source": [
    "sample_text"
   ]
  },
  {
   "cell_type": "code",
   "execution_count": 12,
   "id": "1638cceb",
   "metadata": {},
   "outputs": [],
   "source": [
    "def baseline_summary_three_sent(text):\n",
    "    return \"\\n\".join(sent_tokenize(text)[:3])"
   ]
  },
  {
   "cell_type": "code",
   "execution_count": 13,
   "id": "34c6231b",
   "metadata": {},
   "outputs": [
    {
     "data": {
      "text/plain": [
       "'Editor\\'s note: In our Behind the Scenes series, CNN correspondents share their experiences in covering news and analyze the stories behind the events.\\nHere, Soledad O\\'Brien takes users inside a jail where many of the inmates are mentally ill. An inmate housed on the \"forgotten floor,\" where many mentally ill inmates are housed in Miami before trial.\\nMIAMI, Florida (CNN) -- The ninth floor of the Miami-Dade pretrial detention facility is dubbed the \"forgotten floor.\"'"
      ]
     },
     "execution_count": 13,
     "metadata": {},
     "output_type": "execute_result"
    }
   ],
   "source": [
    "summaries['baseline'] = baseline_summary_three_sent(sample_text)\n",
    "\n",
    "summaries['baseline']"
   ]
  },
  {
   "cell_type": "code",
   "execution_count": 14,
   "id": "526b778a",
   "metadata": {},
   "outputs": [],
   "source": [
    "pipe = pipeline('summarization', model=\"google/pegasus-cnn_dailymail\"  )\n",
    "\n",
    "pipe_out = pipe(sample_text)"
   ]
  },
  {
   "cell_type": "code",
   "execution_count": 15,
   "id": "4ecaaea8",
   "metadata": {},
   "outputs": [
    {
     "data": {
      "text/plain": [
       "[{'summary_text': 'Mentally ill inmates are housed on the \"forgotten floor\" of a Miami jail .<n>Judge Steven Leifman says the charges are usually \"avoidable felonies\"<n>He says the arrests often result from confrontations with police .<n>Mentally ill people often won\\'t do what they\\'re told when police arrive on the scene .'}]"
      ]
     },
     "execution_count": 15,
     "metadata": {},
     "output_type": "execute_result"
    }
   ],
   "source": [
    "pipe_out"
   ]
  },
  {
   "cell_type": "code",
   "execution_count": 16,
   "id": "442e395c",
   "metadata": {},
   "outputs": [],
   "source": [
    "model_name=\"small.en\"    #['mdedium-en', 'large', 'large-v2', 'small-en', 'tiny-en']\n",
    "video_path=\"/home/ubuntu/New_program/text_search_video/videos/\"\n",
    "fname     = video_id+\".json\"\n",
    "embedding_file = video_id+\"_embeddings.npy\""
   ]
  },
  {
   "cell_type": "code",
   "execution_count": 17,
   "id": "f5c5f540",
   "metadata": {},
   "outputs": [],
   "source": [
    "video_id=\"OgbBtDCNELA\"\n",
    "fname=video_id+'.json'\n",
    "search = Search(model_name, video_id, video_path, fname)"
   ]
  },
  {
   "cell_type": "code",
   "execution_count": 18,
   "id": "cbc888db",
   "metadata": {},
   "outputs": [],
   "source": [
    "subtitle=search.load_text_extract_file(fname)"
   ]
  },
  {
   "cell_type": "code",
   "execution_count": 19,
   "id": "c7166649",
   "metadata": {},
   "outputs": [],
   "source": [
    "subtitle_text = subtitle['text'][500:1000]"
   ]
  },
  {
   "cell_type": "code",
   "execution_count": 20,
   "id": "633f2471",
   "metadata": {},
   "outputs": [
    {
     "data": {
      "text/plain": [
       "500"
      ]
     },
     "execution_count": 20,
     "metadata": {},
     "output_type": "execute_result"
    }
   ],
   "source": [
    "len(subtitle_text)"
   ]
  },
  {
   "cell_type": "code",
   "execution_count": 21,
   "id": "7cfa8d64",
   "metadata": {},
   "outputs": [
    {
     "name": "stderr",
     "output_type": "stream",
     "text": [
      "Your max_length is set to 128, but you input_length is only 109. You might consider decreasing max_length manually, e.g. summarizer('...', max_length=54)\n"
     ]
    }
   ],
   "source": [
    "pipe_out = pipe(subtitle_text)"
   ]
  },
  {
   "cell_type": "code",
   "execution_count": 22,
   "id": "838d4fca",
   "metadata": {},
   "outputs": [
    {
     "data": {
      "text/plain": [
       "\"A real image is formed when the rays converge at a particular point like it's shown over here .<n>A virtual image is formed when the rays appear to diverge from a particular point like the one shown over here .\""
      ]
     },
     "execution_count": 22,
     "metadata": {},
     "output_type": "execute_result"
    }
   ],
   "source": [
    "pipe_out[0]['summary_text']"
   ]
  },
  {
   "cell_type": "code",
   "execution_count": 23,
   "id": "60fc7fd1",
   "metadata": {},
   "outputs": [
    {
     "data": {
      "text/plain": [
       "\"A real image is formed when the rays converge at a particular point like it's shown over here .<n>A virtual image is formed when the rays appear to diverge from a particular point like the one shown over here .\""
      ]
     },
     "execution_count": 23,
     "metadata": {},
     "output_type": "execute_result"
    }
   ],
   "source": [
    "pipe_out[0]['summary_text']"
   ]
  },
  {
   "cell_type": "code",
   "execution_count": null,
   "id": "af56f1ce",
   "metadata": {},
   "outputs": [],
   "source": []
  },
  {
   "cell_type": "code",
   "execution_count": 24,
   "id": "5d50f372",
   "metadata": {},
   "outputs": [],
   "source": [
    "def summarize_subtitle(subtitle, pipe):\n",
    "    summarized_text = []\n",
    "    step = 500\n",
    "    for i in range(0, len(subtitle['text']), step):\n",
    "        text_chunk = subtitle['text'][i:i+step]\n",
    "        model_output = pipe(text_chunk)\n",
    "        summarized_text.append(model_output)\n",
    "    print(\"Summary:\")\n",
    "    for item in summarized_text:\n",
    "        print(f\"- {item}\")"
   ]
  },
  {
   "cell_type": "code",
   "execution_count": null,
   "id": "b2ab6a5c",
   "metadata": {
    "scrolled": false
   },
   "outputs": [
    {
     "name": "stderr",
     "output_type": "stream",
     "text": [
      "Your max_length is set to 128, but you input_length is only 106. You might consider decreasing max_length manually, e.g. summarizer('...', max_length=53)\n",
      "Your max_length is set to 128, but you input_length is only 109. You might consider decreasing max_length manually, e.g. summarizer('...', max_length=54)\n",
      "Your max_length is set to 128, but you input_length is only 113. You might consider decreasing max_length manually, e.g. summarizer('...', max_length=56)\n",
      "Your max_length is set to 128, but you input_length is only 106. You might consider decreasing max_length manually, e.g. summarizer('...', max_length=53)\n",
      "Your max_length is set to 128, but you input_length is only 111. You might consider decreasing max_length manually, e.g. summarizer('...', max_length=55)\n",
      "Your max_length is set to 128, but you input_length is only 109. You might consider decreasing max_length manually, e.g. summarizer('...', max_length=54)\n",
      "Your max_length is set to 128, but you input_length is only 101. You might consider decreasing max_length manually, e.g. summarizer('...', max_length=50)\n",
      "Your max_length is set to 128, but you input_length is only 104. You might consider decreasing max_length manually, e.g. summarizer('...', max_length=52)\n",
      "Your max_length is set to 128, but you input_length is only 104. You might consider decreasing max_length manually, e.g. summarizer('...', max_length=52)\n",
      "Your max_length is set to 128, but you input_length is only 101. You might consider decreasing max_length manually, e.g. summarizer('...', max_length=50)\n",
      "Your max_length is set to 128, but you input_length is only 102. You might consider decreasing max_length manually, e.g. summarizer('...', max_length=51)\n",
      "Your max_length is set to 128, but you input_length is only 109. You might consider decreasing max_length manually, e.g. summarizer('...', max_length=54)\n",
      "Your max_length is set to 128, but you input_length is only 106. You might consider decreasing max_length manually, e.g. summarizer('...', max_length=53)\n",
      "Your max_length is set to 128, but you input_length is only 104. You might consider decreasing max_length manually, e.g. summarizer('...', max_length=52)\n",
      "Your max_length is set to 128, but you input_length is only 106. You might consider decreasing max_length manually, e.g. summarizer('...', max_length=53)\n",
      "Your max_length is set to 128, but you input_length is only 109. You might consider decreasing max_length manually, e.g. summarizer('...', max_length=54)\n",
      "Your max_length is set to 128, but you input_length is only 101. You might consider decreasing max_length manually, e.g. summarizer('...', max_length=50)\n",
      "Your max_length is set to 128, but you input_length is only 100. You might consider decreasing max_length manually, e.g. summarizer('...', max_length=50)\n",
      "Your max_length is set to 128, but you input_length is only 105. You might consider decreasing max_length manually, e.g. summarizer('...', max_length=52)\n",
      "Your max_length is set to 128, but you input_length is only 106. You might consider decreasing max_length manually, e.g. summarizer('...', max_length=53)\n",
      "Your max_length is set to 128, but you input_length is only 97. You might consider decreasing max_length manually, e.g. summarizer('...', max_length=48)\n",
      "Your max_length is set to 128, but you input_length is only 107. You might consider decreasing max_length manually, e.g. summarizer('...', max_length=53)\n",
      "Your max_length is set to 128, but you input_length is only 109. You might consider decreasing max_length manually, e.g. summarizer('...', max_length=54)\n",
      "Your max_length is set to 128, but you input_length is only 104. You might consider decreasing max_length manually, e.g. summarizer('...', max_length=52)\n",
      "Your max_length is set to 128, but you input_length is only 102. You might consider decreasing max_length manually, e.g. summarizer('...', max_length=51)\n",
      "Your max_length is set to 128, but you input_length is only 100. You might consider decreasing max_length manually, e.g. summarizer('...', max_length=50)\n",
      "Your max_length is set to 128, but you input_length is only 96. You might consider decreasing max_length manually, e.g. summarizer('...', max_length=48)\n",
      "Your max_length is set to 128, but you input_length is only 111. You might consider decreasing max_length manually, e.g. summarizer('...', max_length=55)\n",
      "Your max_length is set to 128, but you input_length is only 100. You might consider decreasing max_length manually, e.g. summarizer('...', max_length=50)\n"
     ]
    }
   ],
   "source": [
    "%%time\n",
    "pipe = pipeline('summarization', model=\"google/pegasus-cnn_dailymail\")\n",
    "subtitle=search.load_text_extract_file(fname)\n",
    "summarize_subtitle(subtitle, pipe)"
   ]
  },
  {
   "cell_type": "code",
   "execution_count": null,
   "id": "36eac562",
   "metadata": {},
   "outputs": [],
   "source": []
  },
  {
   "cell_type": "code",
   "execution_count": null,
   "id": "e1ac3082",
   "metadata": {},
   "outputs": [],
   "source": []
  }
 ],
 "metadata": {
  "kernelspec": {
   "display_name": "Python 3 (ipykernel)",
   "language": "python",
   "name": "python3"
  },
  "language_info": {
   "codemirror_mode": {
    "name": "ipython",
    "version": 3
   },
   "file_extension": ".py",
   "mimetype": "text/x-python",
   "name": "python",
   "nbconvert_exporter": "python",
   "pygments_lexer": "ipython3",
   "version": "3.8.10"
  },
  "varInspector": {
   "cols": {
    "lenName": 16,
    "lenType": 16,
    "lenVar": 40
   },
   "kernels_config": {
    "python": {
     "delete_cmd_postfix": "",
     "delete_cmd_prefix": "del ",
     "library": "var_list.py",
     "varRefreshCmd": "print(var_dic_list())"
    },
    "r": {
     "delete_cmd_postfix": ") ",
     "delete_cmd_prefix": "rm(",
     "library": "var_list.r",
     "varRefreshCmd": "cat(var_dic_list()) "
    }
   },
   "types_to_exclude": [
    "module",
    "function",
    "builtin_function_or_method",
    "instance",
    "_Feature"
   ],
   "window_display": false
  }
 },
 "nbformat": 4,
 "nbformat_minor": 5
}
